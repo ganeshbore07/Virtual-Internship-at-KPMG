{
 "cells": [
  {
   "cell_type": "code",
   "execution_count": 1,
   "id": "f14104ef",
   "metadata": {},
   "outputs": [],
   "source": [
    "import numpy as np\n",
    "import pandas as pd"
   ]
  },
  {
   "cell_type": "markdown",
   "id": "bfc39b6f",
   "metadata": {},
   "source": [
    "# Data Extracting"
   ]
  },
  {
   "cell_type": "code",
   "execution_count": 2,
   "id": "cb76a07b",
   "metadata": {
    "scrolled": true
   },
   "outputs": [
    {
     "name": "stderr",
     "output_type": "stream",
     "text": [
      "C:\\Users\\ADMIN\\AppData\\Local\\Temp\\ipykernel_3728\\2343338009.py:2: FutureWarning: Inferring datetime64[ns] from data containing strings is deprecated and will be removed in a future version. To retain the old behavior explicitly pass Series(data, dtype=datetime64[ns])\n",
      "  customerlist=pd.read_excel(r'C:\\Users\\ADMIN\\KPMG Internship\\KPMG.xlsx',sheet_name='NewCustomerList')\n"
     ]
    }
   ],
   "source": [
    "transactions=pd.read_excel(r'C:\\Users\\ADMIN\\KPMG Internship\\KPMG.xlsx',sheet_name='Transactions')\n",
    "customerlist=pd.read_excel(r'C:\\Users\\ADMIN\\KPMG Internship\\KPMG.xlsx',sheet_name='NewCustomerList')\n",
    "custdemo=pd.read_excel(r'C:\\Users\\ADMIN\\KPMG Internship\\KPMG.xlsx',sheet_name='CustomerDemographic')\n",
    "custaddt=pd.read_excel(r'C:\\Users\\ADMIN\\KPMG Internship\\KPMG.xlsx',sheet_name='CustomerAddress')"
   ]
  },
  {
   "cell_type": "markdown",
   "id": "b07236c4",
   "metadata": {},
   "source": [
    "# Exploring Transaction's data"
   ]
  },
  {
   "cell_type": "code",
   "execution_count": 3,
   "id": "315d47fd",
   "metadata": {},
   "outputs": [
    {
     "data": {
      "text/html": [
       "<div>\n",
       "<style scoped>\n",
       "    .dataframe tbody tr th:only-of-type {\n",
       "        vertical-align: middle;\n",
       "    }\n",
       "\n",
       "    .dataframe tbody tr th {\n",
       "        vertical-align: top;\n",
       "    }\n",
       "\n",
       "    .dataframe thead th {\n",
       "        text-align: right;\n",
       "    }\n",
       "</style>\n",
       "<table border=\"1\" class=\"dataframe\">\n",
       "  <thead>\n",
       "    <tr style=\"text-align: right;\">\n",
       "      <th></th>\n",
       "      <th>transaction_id</th>\n",
       "      <th>product_id</th>\n",
       "      <th>customer_id</th>\n",
       "      <th>transaction_date</th>\n",
       "      <th>online_order</th>\n",
       "      <th>order_status</th>\n",
       "      <th>brand</th>\n",
       "      <th>product_line</th>\n",
       "      <th>product_class</th>\n",
       "      <th>product_size</th>\n",
       "      <th>list_price</th>\n",
       "      <th>standard_cost</th>\n",
       "      <th>product_first_sold_date</th>\n",
       "    </tr>\n",
       "  </thead>\n",
       "  <tbody>\n",
       "    <tr>\n",
       "      <th>0</th>\n",
       "      <td>1</td>\n",
       "      <td>2</td>\n",
       "      <td>2950</td>\n",
       "      <td>2017-02-25</td>\n",
       "      <td>0.0</td>\n",
       "      <td>Approved</td>\n",
       "      <td>Solex</td>\n",
       "      <td>Standard</td>\n",
       "      <td>medium</td>\n",
       "      <td>medium</td>\n",
       "      <td>71.49</td>\n",
       "      <td>53.62</td>\n",
       "      <td>41245.0</td>\n",
       "    </tr>\n",
       "    <tr>\n",
       "      <th>1</th>\n",
       "      <td>2</td>\n",
       "      <td>3</td>\n",
       "      <td>3120</td>\n",
       "      <td>2017-05-21</td>\n",
       "      <td>1.0</td>\n",
       "      <td>Approved</td>\n",
       "      <td>Trek Bicycles</td>\n",
       "      <td>Standard</td>\n",
       "      <td>medium</td>\n",
       "      <td>large</td>\n",
       "      <td>2091.47</td>\n",
       "      <td>388.92</td>\n",
       "      <td>41701.0</td>\n",
       "    </tr>\n",
       "    <tr>\n",
       "      <th>2</th>\n",
       "      <td>3</td>\n",
       "      <td>37</td>\n",
       "      <td>402</td>\n",
       "      <td>2017-10-16</td>\n",
       "      <td>0.0</td>\n",
       "      <td>Approved</td>\n",
       "      <td>OHM Cycles</td>\n",
       "      <td>Standard</td>\n",
       "      <td>low</td>\n",
       "      <td>medium</td>\n",
       "      <td>1793.43</td>\n",
       "      <td>248.82</td>\n",
       "      <td>36361.0</td>\n",
       "    </tr>\n",
       "    <tr>\n",
       "      <th>3</th>\n",
       "      <td>4</td>\n",
       "      <td>88</td>\n",
       "      <td>3135</td>\n",
       "      <td>2017-08-31</td>\n",
       "      <td>0.0</td>\n",
       "      <td>Approved</td>\n",
       "      <td>Norco Bicycles</td>\n",
       "      <td>Standard</td>\n",
       "      <td>medium</td>\n",
       "      <td>medium</td>\n",
       "      <td>1198.46</td>\n",
       "      <td>381.10</td>\n",
       "      <td>36145.0</td>\n",
       "    </tr>\n",
       "    <tr>\n",
       "      <th>4</th>\n",
       "      <td>5</td>\n",
       "      <td>78</td>\n",
       "      <td>787</td>\n",
       "      <td>2017-10-01</td>\n",
       "      <td>1.0</td>\n",
       "      <td>Approved</td>\n",
       "      <td>Giant Bicycles</td>\n",
       "      <td>Standard</td>\n",
       "      <td>medium</td>\n",
       "      <td>large</td>\n",
       "      <td>1765.30</td>\n",
       "      <td>709.48</td>\n",
       "      <td>42226.0</td>\n",
       "    </tr>\n",
       "    <tr>\n",
       "      <th>...</th>\n",
       "      <td>...</td>\n",
       "      <td>...</td>\n",
       "      <td>...</td>\n",
       "      <td>...</td>\n",
       "      <td>...</td>\n",
       "      <td>...</td>\n",
       "      <td>...</td>\n",
       "      <td>...</td>\n",
       "      <td>...</td>\n",
       "      <td>...</td>\n",
       "      <td>...</td>\n",
       "      <td>...</td>\n",
       "      <td>...</td>\n",
       "    </tr>\n",
       "    <tr>\n",
       "      <th>19995</th>\n",
       "      <td>19996</td>\n",
       "      <td>51</td>\n",
       "      <td>1018</td>\n",
       "      <td>2017-06-24</td>\n",
       "      <td>1.0</td>\n",
       "      <td>Approved</td>\n",
       "      <td>OHM Cycles</td>\n",
       "      <td>Standard</td>\n",
       "      <td>high</td>\n",
       "      <td>medium</td>\n",
       "      <td>2005.66</td>\n",
       "      <td>1203.40</td>\n",
       "      <td>37823.0</td>\n",
       "    </tr>\n",
       "    <tr>\n",
       "      <th>19996</th>\n",
       "      <td>19997</td>\n",
       "      <td>41</td>\n",
       "      <td>127</td>\n",
       "      <td>2017-11-09</td>\n",
       "      <td>1.0</td>\n",
       "      <td>Approved</td>\n",
       "      <td>Solex</td>\n",
       "      <td>Road</td>\n",
       "      <td>medium</td>\n",
       "      <td>medium</td>\n",
       "      <td>416.98</td>\n",
       "      <td>312.74</td>\n",
       "      <td>35560.0</td>\n",
       "    </tr>\n",
       "    <tr>\n",
       "      <th>19997</th>\n",
       "      <td>19998</td>\n",
       "      <td>87</td>\n",
       "      <td>2284</td>\n",
       "      <td>2017-04-14</td>\n",
       "      <td>1.0</td>\n",
       "      <td>Approved</td>\n",
       "      <td>OHM Cycles</td>\n",
       "      <td>Standard</td>\n",
       "      <td>medium</td>\n",
       "      <td>medium</td>\n",
       "      <td>1636.90</td>\n",
       "      <td>44.71</td>\n",
       "      <td>40410.0</td>\n",
       "    </tr>\n",
       "    <tr>\n",
       "      <th>19998</th>\n",
       "      <td>19999</td>\n",
       "      <td>6</td>\n",
       "      <td>2764</td>\n",
       "      <td>2017-07-03</td>\n",
       "      <td>0.0</td>\n",
       "      <td>Approved</td>\n",
       "      <td>OHM Cycles</td>\n",
       "      <td>Standard</td>\n",
       "      <td>high</td>\n",
       "      <td>medium</td>\n",
       "      <td>227.88</td>\n",
       "      <td>136.73</td>\n",
       "      <td>38216.0</td>\n",
       "    </tr>\n",
       "    <tr>\n",
       "      <th>19999</th>\n",
       "      <td>20000</td>\n",
       "      <td>11</td>\n",
       "      <td>1144</td>\n",
       "      <td>2017-09-22</td>\n",
       "      <td>1.0</td>\n",
       "      <td>Approved</td>\n",
       "      <td>Trek Bicycles</td>\n",
       "      <td>Standard</td>\n",
       "      <td>medium</td>\n",
       "      <td>small</td>\n",
       "      <td>1775.81</td>\n",
       "      <td>1580.47</td>\n",
       "      <td>36334.0</td>\n",
       "    </tr>\n",
       "  </tbody>\n",
       "</table>\n",
       "<p>20000 rows × 13 columns</p>\n",
       "</div>"
      ],
      "text/plain": [
       "       transaction_id  product_id  customer_id transaction_date  online_order  \\\n",
       "0                   1           2         2950       2017-02-25           0.0   \n",
       "1                   2           3         3120       2017-05-21           1.0   \n",
       "2                   3          37          402       2017-10-16           0.0   \n",
       "3                   4          88         3135       2017-08-31           0.0   \n",
       "4                   5          78          787       2017-10-01           1.0   \n",
       "...               ...         ...          ...              ...           ...   \n",
       "19995           19996          51         1018       2017-06-24           1.0   \n",
       "19996           19997          41          127       2017-11-09           1.0   \n",
       "19997           19998          87         2284       2017-04-14           1.0   \n",
       "19998           19999           6         2764       2017-07-03           0.0   \n",
       "19999           20000          11         1144       2017-09-22           1.0   \n",
       "\n",
       "      order_status           brand product_line product_class product_size  \\\n",
       "0         Approved           Solex     Standard        medium       medium   \n",
       "1         Approved   Trek Bicycles     Standard        medium        large   \n",
       "2         Approved      OHM Cycles     Standard           low       medium   \n",
       "3         Approved  Norco Bicycles     Standard        medium       medium   \n",
       "4         Approved  Giant Bicycles     Standard        medium        large   \n",
       "...            ...             ...          ...           ...          ...   \n",
       "19995     Approved      OHM Cycles     Standard          high       medium   \n",
       "19996     Approved           Solex         Road        medium       medium   \n",
       "19997     Approved      OHM Cycles     Standard        medium       medium   \n",
       "19998     Approved      OHM Cycles     Standard          high       medium   \n",
       "19999     Approved   Trek Bicycles     Standard        medium        small   \n",
       "\n",
       "       list_price  standard_cost  product_first_sold_date  \n",
       "0           71.49          53.62                  41245.0  \n",
       "1         2091.47         388.92                  41701.0  \n",
       "2         1793.43         248.82                  36361.0  \n",
       "3         1198.46         381.10                  36145.0  \n",
       "4         1765.30         709.48                  42226.0  \n",
       "...           ...            ...                      ...  \n",
       "19995     2005.66        1203.40                  37823.0  \n",
       "19996      416.98         312.74                  35560.0  \n",
       "19997     1636.90          44.71                  40410.0  \n",
       "19998      227.88         136.73                  38216.0  \n",
       "19999     1775.81        1580.47                  36334.0  \n",
       "\n",
       "[20000 rows x 13 columns]"
      ]
     },
     "execution_count": 3,
     "metadata": {},
     "output_type": "execute_result"
    }
   ],
   "source": [
    "transactions"
   ]
  },
  {
   "cell_type": "code",
   "execution_count": 4,
   "id": "abff836f",
   "metadata": {},
   "outputs": [
    {
     "name": "stdout",
     "output_type": "stream",
     "text": [
      "<class 'pandas.core.frame.DataFrame'>\n",
      "RangeIndex: 20000 entries, 0 to 19999\n",
      "Data columns (total 13 columns):\n",
      " #   Column                   Non-Null Count  Dtype         \n",
      "---  ------                   --------------  -----         \n",
      " 0   transaction_id           20000 non-null  int64         \n",
      " 1   product_id               20000 non-null  int64         \n",
      " 2   customer_id              20000 non-null  int64         \n",
      " 3   transaction_date         20000 non-null  datetime64[ns]\n",
      " 4   online_order             19640 non-null  float64       \n",
      " 5   order_status             20000 non-null  object        \n",
      " 6   brand                    19803 non-null  object        \n",
      " 7   product_line             19803 non-null  object        \n",
      " 8   product_class            19803 non-null  object        \n",
      " 9   product_size             19803 non-null  object        \n",
      " 10  list_price               20000 non-null  float64       \n",
      " 11  standard_cost            19803 non-null  float64       \n",
      " 12  product_first_sold_date  19803 non-null  float64       \n",
      "dtypes: datetime64[ns](1), float64(4), int64(3), object(5)\n",
      "memory usage: 2.0+ MB\n"
     ]
    }
   ],
   "source": [
    "transactions.info()"
   ]
  },
  {
   "cell_type": "code",
   "execution_count": 5,
   "id": "5f0414e4",
   "metadata": {},
   "outputs": [
    {
     "data": {
      "text/plain": [
       "transaction_id               0\n",
       "product_id                   0\n",
       "customer_id                  0\n",
       "transaction_date             0\n",
       "online_order               360\n",
       "order_status                 0\n",
       "brand                      197\n",
       "product_line               197\n",
       "product_class              197\n",
       "product_size               197\n",
       "list_price                   0\n",
       "standard_cost              197\n",
       "product_first_sold_date    197\n",
       "dtype: int64"
      ]
     },
     "execution_count": 5,
     "metadata": {},
     "output_type": "execute_result"
    }
   ],
   "source": [
    "transactions.isnull().sum()"
   ]
  },
  {
   "cell_type": "markdown",
   "id": "590469fa",
   "metadata": {},
   "source": [
    "# ##In this data 7 columns are having null values"
   ]
  },
  {
   "cell_type": "code",
   "execution_count": 6,
   "id": "4eef25a9",
   "metadata": {},
   "outputs": [
    {
     "data": {
      "text/plain": [
       "0"
      ]
     },
     "execution_count": 6,
     "metadata": {},
     "output_type": "execute_result"
    }
   ],
   "source": [
    "transactions.duplicated().sum()"
   ]
  },
  {
   "cell_type": "code",
   "execution_count": 8,
   "id": "980e51e0",
   "metadata": {},
   "outputs": [
    {
     "data": {
      "text/plain": [
       "transaction_id             20000\n",
       "product_id                   101\n",
       "customer_id                 3494\n",
       "transaction_date             364\n",
       "online_order                   2\n",
       "order_status                   2\n",
       "brand                          6\n",
       "product_line                   4\n",
       "product_class                  3\n",
       "product_size                   3\n",
       "list_price                   296\n",
       "standard_cost                103\n",
       "product_first_sold_date      100\n",
       "dtype: int64"
      ]
     },
     "execution_count": 8,
     "metadata": {},
     "output_type": "execute_result"
    }
   ],
   "source": [
    "transactions.nunique()"
   ]
  },
  {
   "cell_type": "code",
   "execution_count": 9,
   "id": "8ff17d90",
   "metadata": {},
   "outputs": [
    {
     "data": {
      "text/plain": [
       "Index(['transaction_id', 'product_id', 'customer_id', 'transaction_date',\n",
       "       'online_order', 'order_status', 'brand', 'product_line',\n",
       "       'product_class', 'product_size', 'list_price', 'standard_cost',\n",
       "       'product_first_sold_date'],\n",
       "      dtype='object')"
      ]
     },
     "execution_count": 9,
     "metadata": {},
     "output_type": "execute_result"
    }
   ],
   "source": [
    "transactions.columns"
   ]
  },
  {
   "cell_type": "code",
   "execution_count": 10,
   "id": "62a421eb",
   "metadata": {},
   "outputs": [
    {
     "data": {
      "text/plain": [
       "transaction_id                      int64\n",
       "product_id                          int64\n",
       "customer_id                         int64\n",
       "transaction_date           datetime64[ns]\n",
       "online_order                      float64\n",
       "order_status                       object\n",
       "brand                              object\n",
       "product_line                       object\n",
       "product_class                      object\n",
       "product_size                       object\n",
       "list_price                        float64\n",
       "standard_cost                     float64\n",
       "product_first_sold_date           float64\n",
       "dtype: object"
      ]
     },
     "execution_count": 10,
     "metadata": {},
     "output_type": "execute_result"
    }
   ],
   "source": [
    "transactions.dtypes"
   ]
  },
  {
   "cell_type": "code",
   "execution_count": 11,
   "id": "074bd0a9",
   "metadata": {},
   "outputs": [
    {
     "data": {
      "text/plain": [
       "19995   1970-01-01 10:30:23\n",
       "19996   1970-01-01 09:52:40\n",
       "19997   1970-01-01 11:13:30\n",
       "19998   1970-01-01 10:36:56\n",
       "19999   1970-01-01 10:05:34\n",
       "Name: product_first_sold_date, dtype: datetime64[ns]"
      ]
     },
     "execution_count": 11,
     "metadata": {},
     "output_type": "execute_result"
    }
   ],
   "source": [
    "transactions['product_first_sold_date'] = pd.to_datetime(transactions['product_first_sold_date'], unit='s')\n",
    "transactions['product_first_sold_date'].tail()"
   ]
  },
  {
   "cell_type": "markdown",
   "id": "70257350",
   "metadata": {},
   "source": [
    "#Product Sales data contains only the data on the same date repeatedly. We have to clarify this data with the author of the data. "
   ]
  },
  {
   "cell_type": "code",
   "execution_count": 12,
   "id": "8f2c0411",
   "metadata": {},
   "outputs": [
    {
     "data": {
      "text/plain": [
       "transaction_id                      int64\n",
       "product_id                          int64\n",
       "customer_id                         int64\n",
       "transaction_date           datetime64[ns]\n",
       "online_order                      float64\n",
       "order_status                       object\n",
       "brand                              object\n",
       "product_line                       object\n",
       "product_class                      object\n",
       "product_size                       object\n",
       "list_price                        float64\n",
       "standard_cost                     float64\n",
       "product_first_sold_date    datetime64[ns]\n",
       "dtype: object"
      ]
     },
     "execution_count": 12,
     "metadata": {},
     "output_type": "execute_result"
    }
   ],
   "source": [
    "transactions.dtypes"
   ]
  },
  {
   "cell_type": "code",
   "execution_count": 13,
   "id": "739440ee",
   "metadata": {},
   "outputs": [
    {
     "data": {
      "text/plain": [
       "Approved     19821\n",
       "Cancelled      179\n",
       "Name: order_status, dtype: int64"
      ]
     },
     "execution_count": 13,
     "metadata": {},
     "output_type": "execute_result"
    }
   ],
   "source": [
    "transactions['order_status'].value_counts()"
   ]
  },
  {
   "cell_type": "code",
   "execution_count": 14,
   "id": "cd3714c0",
   "metadata": {},
   "outputs": [
    {
     "data": {
      "text/plain": [
       "Solex             4253\n",
       "Giant Bicycles    3312\n",
       "WeareA2B          3295\n",
       "OHM Cycles        3043\n",
       "Trek Bicycles     2990\n",
       "Norco Bicycles    2910\n",
       "Name: brand, dtype: int64"
      ]
     },
     "execution_count": 14,
     "metadata": {},
     "output_type": "execute_result"
    }
   ],
   "source": [
    "transactions['brand'].value_counts()"
   ]
  },
  {
   "cell_type": "code",
   "execution_count": 15,
   "id": "2fe249e9",
   "metadata": {},
   "outputs": [
    {
     "data": {
      "text/plain": [
       "Standard    14176\n",
       "Road         3970\n",
       "Touring      1234\n",
       "Mountain      423\n",
       "Name: product_line, dtype: int64"
      ]
     },
     "execution_count": 15,
     "metadata": {},
     "output_type": "execute_result"
    }
   ],
   "source": [
    "transactions['product_line'].value_counts()"
   ]
  },
  {
   "cell_type": "code",
   "execution_count": 16,
   "id": "232104f2",
   "metadata": {},
   "outputs": [
    {
     "data": {
      "text/plain": [
       "medium    13826\n",
       "high       3013\n",
       "low        2964\n",
       "Name: product_class, dtype: int64"
      ]
     },
     "execution_count": 16,
     "metadata": {},
     "output_type": "execute_result"
    }
   ],
   "source": [
    "transactions['product_class'].value_counts()"
   ]
  },
  {
   "cell_type": "code",
   "execution_count": 22,
   "id": "6b0a4f23",
   "metadata": {},
   "outputs": [
    {
     "data": {
      "text/plain": [
       "medium    12990\n",
       "large      3976\n",
       "small      2837\n",
       "Name: product_size, dtype: int64"
      ]
     },
     "execution_count": 22,
     "metadata": {},
     "output_type": "execute_result"
    }
   ],
   "source": [
    "transactions['product_size'].value_counts()\n"
   ]
  },
  {
   "cell_type": "markdown",
   "id": "029f82ed",
   "metadata": {},
   "source": [
    " All the columns in the transactions data are uniform and good\n",
    " # Exploring the next dataset: New Customers List"
   ]
  },
  {
   "cell_type": "code",
   "execution_count": 17,
   "id": "cb9b7977",
   "metadata": {},
   "outputs": [
    {
     "name": "stdout",
     "output_type": "stream",
     "text": [
      "<class 'pandas.core.frame.DataFrame'>\n",
      "RangeIndex: 1000 entries, 0 to 999\n",
      "Data columns (total 23 columns):\n",
      " #   Column                               Non-Null Count  Dtype         \n",
      "---  ------                               --------------  -----         \n",
      " 0   first_name                           1000 non-null   object        \n",
      " 1   last_name                            971 non-null    object        \n",
      " 2   gender                               1000 non-null   object        \n",
      " 3   past_3_years_bike_related_purchases  1000 non-null   int64         \n",
      " 4   DOB                                  983 non-null    datetime64[ns]\n",
      " 5   job_title                            894 non-null    object        \n",
      " 6   job_industry_category                835 non-null    object        \n",
      " 7   wealth_segment                       1000 non-null   object        \n",
      " 8   deceased_indicator                   1000 non-null   object        \n",
      " 9   owns_car                             1000 non-null   object        \n",
      " 10  tenure                               1000 non-null   int64         \n",
      " 11  address                              1000 non-null   object        \n",
      " 12  postcode                             1000 non-null   int64         \n",
      " 13  state                                1000 non-null   object        \n",
      " 14  country                              1000 non-null   object        \n",
      " 15  property_valuation                   1000 non-null   int64         \n",
      " 16  Unnamed: 16                          1000 non-null   float64       \n",
      " 17  Unnamed: 17                          1000 non-null   float64       \n",
      " 18  Unnamed: 18                          1000 non-null   float64       \n",
      " 19  Unnamed: 19                          1000 non-null   float64       \n",
      " 20  Unnamed: 20                          1000 non-null   int64         \n",
      " 21  Rank                                 1000 non-null   int64         \n",
      " 22  Value                                1000 non-null   float64       \n",
      "dtypes: datetime64[ns](1), float64(5), int64(6), object(11)\n",
      "memory usage: 179.8+ KB\n"
     ]
    }
   ],
   "source": [
    "customerlist.info()"
   ]
  },
  {
   "cell_type": "code",
   "execution_count": 18,
   "id": "30117aa8",
   "metadata": {},
   "outputs": [
    {
     "data": {
      "text/plain": [
       "first_name                              940\n",
       "last_name                               961\n",
       "gender                                    3\n",
       "past_3_years_bike_related_purchases     100\n",
       "DOB                                     958\n",
       "job_title                               184\n",
       "job_industry_category                     9\n",
       "wealth_segment                            3\n",
       "deceased_indicator                        1\n",
       "owns_car                                  2\n",
       "tenure                                   23\n",
       "address                                1000\n",
       "postcode                                522\n",
       "state                                     3\n",
       "country                                   1\n",
       "property_valuation                       12\n",
       "Unnamed: 16                              71\n",
       "Unnamed: 17                             132\n",
       "Unnamed: 18                             187\n",
       "Unnamed: 19                             322\n",
       "Unnamed: 20                             324\n",
       "Rank                                    324\n",
       "Value                                   324\n",
       "dtype: int64"
      ]
     },
     "execution_count": 18,
     "metadata": {},
     "output_type": "execute_result"
    }
   ],
   "source": [
    "customerlist.nunique()"
   ]
  },
  {
   "cell_type": "code",
   "execution_count": 19,
   "id": "56a6cc90",
   "metadata": {},
   "outputs": [
    {
     "name": "stdout",
     "output_type": "stream",
     "text": [
      "<class 'pandas.core.frame.DataFrame'>\n",
      "RangeIndex: 1000 entries, 0 to 999\n",
      "Data columns (total 18 columns):\n",
      " #   Column                               Non-Null Count  Dtype         \n",
      "---  ------                               --------------  -----         \n",
      " 0   first_name                           1000 non-null   object        \n",
      " 1   last_name                            971 non-null    object        \n",
      " 2   gender                               1000 non-null   object        \n",
      " 3   past_3_years_bike_related_purchases  1000 non-null   int64         \n",
      " 4   DOB                                  983 non-null    datetime64[ns]\n",
      " 5   job_title                            894 non-null    object        \n",
      " 6   job_industry_category                835 non-null    object        \n",
      " 7   wealth_segment                       1000 non-null   object        \n",
      " 8   deceased_indicator                   1000 non-null   object        \n",
      " 9   owns_car                             1000 non-null   object        \n",
      " 10  tenure                               1000 non-null   int64         \n",
      " 11  address                              1000 non-null   object        \n",
      " 12  postcode                             1000 non-null   int64         \n",
      " 13  state                                1000 non-null   object        \n",
      " 14  country                              1000 non-null   object        \n",
      " 15  property_valuation                   1000 non-null   int64         \n",
      " 16  Rank                                 1000 non-null   int64         \n",
      " 17  Value                                1000 non-null   float64       \n",
      "dtypes: datetime64[ns](1), float64(1), int64(5), object(11)\n",
      "memory usage: 140.8+ KB\n"
     ]
    }
   ],
   "source": [
    "dcols = ['Unnamed: 16','Unnamed: 17','Unnamed: 18','Unnamed: 19','Unnamed: 20']\n",
    "customerlist=customerlist.drop(dcols,axis=1)\n",
    "customerlist.info()"
   ]
  },
  {
   "cell_type": "code",
   "execution_count": 20,
   "id": "1b813f56",
   "metadata": {},
   "outputs": [
    {
     "data": {
      "text/plain": [
       "first_name                               0\n",
       "last_name                               29\n",
       "gender                                   0\n",
       "past_3_years_bike_related_purchases      0\n",
       "DOB                                     17\n",
       "job_title                              106\n",
       "job_industry_category                  165\n",
       "wealth_segment                           0\n",
       "deceased_indicator                       0\n",
       "owns_car                                 0\n",
       "tenure                                   0\n",
       "address                                  0\n",
       "postcode                                 0\n",
       "state                                    0\n",
       "country                                  0\n",
       "property_valuation                       0\n",
       "Rank                                     0\n",
       "Value                                    0\n",
       "dtype: int64"
      ]
     },
     "execution_count": 20,
     "metadata": {},
     "output_type": "execute_result"
    }
   ],
   "source": [
    "customerlist.isnull().sum()"
   ]
  },
  {
   "cell_type": "code",
   "execution_count": 21,
   "id": "461cd661",
   "metadata": {},
   "outputs": [
    {
     "data": {
      "text/plain": [
       "0"
      ]
     },
     "execution_count": 21,
     "metadata": {},
     "output_type": "execute_result"
    }
   ],
   "source": [
    "customerlist.duplicated().sum()"
   ]
  },
  {
   "cell_type": "code",
   "execution_count": 22,
   "id": "78787ec2",
   "metadata": {},
   "outputs": [
    {
     "data": {
      "text/plain": [
       "Female    513\n",
       "Male      470\n",
       "U          17\n",
       "Name: gender, dtype: int64"
      ]
     },
     "execution_count": 22,
     "metadata": {},
     "output_type": "execute_result"
    }
   ],
   "source": [
    "customerlist['gender'].value_counts()"
   ]
  },
  {
   "cell_type": "code",
   "execution_count": 23,
   "id": "a7c64550",
   "metadata": {},
   "outputs": [
    {
     "data": {
      "text/plain": [
       "0        Male\n",
       "1        Male\n",
       "2      Female\n",
       "3      Female\n",
       "4      Female\n",
       "        ...  \n",
       "995      Male\n",
       "996      Male\n",
       "997    Female\n",
       "998      Male\n",
       "999      Male\n",
       "Name: gender, Length: 1000, dtype: object"
      ]
     },
     "execution_count": 23,
     "metadata": {},
     "output_type": "execute_result"
    }
   ],
   "source": [
    "customerlist['gender'].str.replace('U','Unspecified')"
   ]
  },
  {
   "cell_type": "code",
   "execution_count": 24,
   "id": "e4032cc3",
   "metadata": {},
   "outputs": [
    {
     "name": "stderr",
     "output_type": "stream",
     "text": [
      "C:\\Users\\ADMIN\\AppData\\Local\\Temp\\ipykernel_3728\\191123962.py:1: FutureWarning: Treating datetime data as categorical rather than numeric in `.describe` is deprecated and will be removed in a future version of pandas. Specify `datetime_is_numeric=True` to silence this warning and adopt the future behavior now.\n",
      "  customerlist['DOB'].describe()\n"
     ]
    },
    {
     "data": {
      "text/plain": [
       "count                     983\n",
       "unique                    958\n",
       "top       1998-02-05 00:00:00\n",
       "freq                        2\n",
       "first     1938-06-08 00:00:00\n",
       "last      2002-02-27 00:00:00\n",
       "Name: DOB, dtype: object"
      ]
     },
     "execution_count": 24,
     "metadata": {},
     "output_type": "execute_result"
    }
   ],
   "source": [
    "customerlist['DOB'].describe()"
   ]
  },
  {
   "cell_type": "code",
   "execution_count": 25,
   "id": "24c82bdc",
   "metadata": {},
   "outputs": [
    {
     "data": {
      "text/plain": [
       "Mass Customer        508\n",
       "High Net Worth       251\n",
       "Affluent Customer    241\n",
       "Name: wealth_segment, dtype: int64"
      ]
     },
     "execution_count": 25,
     "metadata": {},
     "output_type": "execute_result"
    }
   ],
   "source": [
    "customerlist['wealth_segment'].value_counts()"
   ]
  },
  {
   "cell_type": "code",
   "execution_count": 26,
   "id": "912b3280",
   "metadata": {},
   "outputs": [
    {
     "data": {
      "text/plain": [
       "No     507\n",
       "Yes    493\n",
       "Name: owns_car, dtype: int64"
      ]
     },
     "execution_count": 26,
     "metadata": {},
     "output_type": "execute_result"
    }
   ],
   "source": [
    "customerlist['owns_car'].value_counts()"
   ]
  },
  {
   "cell_type": "markdown",
   "id": "290403d8",
   "metadata": {},
   "source": [
    "# Exploring Customer Demographic"
   ]
  },
  {
   "cell_type": "code",
   "execution_count": 27,
   "id": "bc8e214e",
   "metadata": {},
   "outputs": [
    {
     "name": "stdout",
     "output_type": "stream",
     "text": [
      "<class 'pandas.core.frame.DataFrame'>\n",
      "RangeIndex: 4001 entries, 0 to 4000\n",
      "Data columns (total 13 columns):\n",
      " #   Column                               Non-Null Count  Dtype \n",
      "---  ------                               --------------  ----- \n",
      " 0   customer_id                          4001 non-null   object\n",
      " 1   first_name                           4001 non-null   object\n",
      " 2   last_name                            3876 non-null   object\n",
      " 3   gender                               4001 non-null   object\n",
      " 4   past_3_years_bike_related_purchases  4001 non-null   object\n",
      " 5   DOB                                  3914 non-null   object\n",
      " 6   job_title                            3495 non-null   object\n",
      " 7   job_industry_category                3345 non-null   object\n",
      " 8   wealth_segment                       4001 non-null   object\n",
      " 9   deceased_indicator                   4001 non-null   object\n",
      " 10  default                              3699 non-null   object\n",
      " 11  owns_car                             4001 non-null   object\n",
      " 12  tenure                               3914 non-null   object\n",
      "dtypes: object(13)\n",
      "memory usage: 406.5+ KB\n"
     ]
    }
   ],
   "source": [
    "custdemo.info()"
   ]
  },
  {
   "cell_type": "code",
   "execution_count": 28,
   "id": "997c1537",
   "metadata": {},
   "outputs": [
    {
     "data": {
      "text/plain": [
       "customer_id                            4001\n",
       "first_name                             3140\n",
       "last_name                              3726\n",
       "gender                                    7\n",
       "past_3_years_bike_related_purchases     101\n",
       "DOB                                    3449\n",
       "job_title                               196\n",
       "job_industry_category                    10\n",
       "wealth_segment                            4\n",
       "deceased_indicator                        3\n",
       "default                                  91\n",
       "owns_car                                  3\n",
       "tenure                                   23\n",
       "dtype: int64"
      ]
     },
     "execution_count": 28,
     "metadata": {},
     "output_type": "execute_result"
    }
   ],
   "source": [
    "custdemo.nunique()"
   ]
  },
  {
   "cell_type": "code",
   "execution_count": 29,
   "id": "5c98dbb6",
   "metadata": {},
   "outputs": [
    {
     "data": {
      "text/plain": [
       "Female    2037\n",
       "Male      1872\n",
       "U           88\n",
       "F            1\n",
       "Femal        1\n",
       "M            1\n",
       "gender       1\n",
       "Name: gender, dtype: int64"
      ]
     },
     "execution_count": 29,
     "metadata": {},
     "output_type": "execute_result"
    }
   ],
   "source": [
    "custdemo['gender'].value_counts()"
   ]
  },
  {
   "cell_type": "code",
   "execution_count": 30,
   "id": "fd135edc",
   "metadata": {},
   "outputs": [
    {
     "data": {
      "text/plain": [
       "Female         2039\n",
       "Male           1873\n",
       "Unspecified      88\n",
       "gender            1\n",
       "Name: gender, dtype: int64"
      ]
     },
     "execution_count": 30,
     "metadata": {},
     "output_type": "execute_result"
    }
   ],
   "source": [
    "custdemo['gender'] = custdemo['gender'].replace('F','Female').replace('M','Male').replace('Femal','Female').replace('U','Unspecified')\n",
    "custdemo['gender'].value_counts()"
   ]
  },
  {
   "cell_type": "code",
   "execution_count": 31,
   "id": "08efa632",
   "metadata": {},
   "outputs": [],
   "source": [
    "custdemo=custdemo.drop('default',axis=1)"
   ]
  },
  {
   "cell_type": "code",
   "execution_count": 32,
   "id": "c8475c74",
   "metadata": {},
   "outputs": [
    {
     "data": {
      "text/plain": [
       "Business Systems Development Analyst    45\n",
       "Tax Accountant                          44\n",
       "Social Worker                           44\n",
       "Internal Auditor                        42\n",
       "Legal Assistant                         41\n",
       "                                        ..\n",
       "Health Coach I                           3\n",
       "Health Coach III                         3\n",
       "Research Assistant III                   3\n",
       "Developer I                              1\n",
       "job_title                                1\n",
       "Name: job_title, Length: 196, dtype: int64"
      ]
     },
     "execution_count": 32,
     "metadata": {},
     "output_type": "execute_result"
    }
   ],
   "source": [
    "custdemo['job_title'].value_counts()"
   ]
  },
  {
   "cell_type": "code",
   "execution_count": 33,
   "id": "515f2369",
   "metadata": {},
   "outputs": [
    {
     "data": {
      "text/plain": [
       "Manufacturing            799\n",
       "Financial Services       774\n",
       "Health                   602\n",
       "Retail                   358\n",
       "Property                 267\n",
       "IT                       223\n",
       "Entertainment            136\n",
       "Argiculture              113\n",
       "Telecommunications        72\n",
       "job_industry_category      1\n",
       "Name: job_industry_category, dtype: int64"
      ]
     },
     "execution_count": 33,
     "metadata": {},
     "output_type": "execute_result"
    }
   ],
   "source": [
    "custdemo['job_industry_category'].value_counts()\n"
   ]
  },
  {
   "cell_type": "code",
   "execution_count": 34,
   "id": "5abfa351",
   "metadata": {},
   "outputs": [
    {
     "data": {
      "text/plain": [
       "Mass Customer        2000\n",
       "High Net Worth       1021\n",
       "Affluent Customer     979\n",
       "wealth_segment          1\n",
       "Name: wealth_segment, dtype: int64"
      ]
     },
     "execution_count": 34,
     "metadata": {},
     "output_type": "execute_result"
    }
   ],
   "source": [
    "custdemo['wealth_segment'].value_counts()"
   ]
  },
  {
   "cell_type": "markdown",
   "id": "b8b2b678",
   "metadata": {},
   "source": [
    "# Exploring customer Address dataset"
   ]
  },
  {
   "cell_type": "code",
   "execution_count": 35,
   "id": "dd1c6875",
   "metadata": {},
   "outputs": [
    {
     "name": "stdout",
     "output_type": "stream",
     "text": [
      "<class 'pandas.core.frame.DataFrame'>\n",
      "RangeIndex: 3999 entries, 0 to 3998\n",
      "Data columns (total 6 columns):\n",
      " #   Column              Non-Null Count  Dtype \n",
      "---  ------              --------------  ----- \n",
      " 0   customer_id         3999 non-null   int64 \n",
      " 1   address             3999 non-null   object\n",
      " 2   postcode            3999 non-null   int64 \n",
      " 3   state               3999 non-null   object\n",
      " 4   country             3999 non-null   object\n",
      " 5   property_valuation  3999 non-null   int64 \n",
      "dtypes: int64(3), object(3)\n",
      "memory usage: 187.6+ KB\n"
     ]
    }
   ],
   "source": [
    "custaddt.info()"
   ]
  },
  {
   "cell_type": "code",
   "execution_count": 36,
   "id": "76c84aeb",
   "metadata": {},
   "outputs": [
    {
     "data": {
      "text/plain": [
       "customer_id           3999\n",
       "address               3996\n",
       "postcode               873\n",
       "state                    5\n",
       "country                  1\n",
       "property_valuation      12\n",
       "dtype: int64"
      ]
     },
     "execution_count": 36,
     "metadata": {},
     "output_type": "execute_result"
    }
   ],
   "source": [
    "custaddt.nunique()"
   ]
  },
  {
   "cell_type": "code",
   "execution_count": 37,
   "id": "cb45cdc3",
   "metadata": {},
   "outputs": [
    {
     "data": {
      "text/plain": [
       "customer_id           0\n",
       "address               0\n",
       "postcode              0\n",
       "state                 0\n",
       "country               0\n",
       "property_valuation    0\n",
       "dtype: int64"
      ]
     },
     "execution_count": 37,
     "metadata": {},
     "output_type": "execute_result"
    }
   ],
   "source": [
    "custaddt.isnull().sum()"
   ]
  },
  {
   "cell_type": "code",
   "execution_count": 38,
   "id": "4cad4469",
   "metadata": {},
   "outputs": [
    {
     "data": {
      "text/plain": [
       "NSW                2054\n",
       "VIC                 939\n",
       "QLD                 838\n",
       "New South Wales      86\n",
       "Victoria             82\n",
       "Name: state, dtype: int64"
      ]
     },
     "execution_count": 38,
     "metadata": {},
     "output_type": "execute_result"
    }
   ],
   "source": [
    "custaddt['state'].value_counts()"
   ]
  },
  {
   "cell_type": "code",
   "execution_count": 39,
   "id": "59f51c82",
   "metadata": {},
   "outputs": [
    {
     "data": {
      "text/plain": [
       "Australia    3999\n",
       "Name: country, dtype: int64"
      ]
     },
     "execution_count": 39,
     "metadata": {},
     "output_type": "execute_result"
    }
   ],
   "source": [
    "custaddt['country'].value_counts()"
   ]
  },
  {
   "cell_type": "markdown",
   "id": "05594378",
   "metadata": {},
   "source": [
    "# All the data now is clean and consistent"
   ]
  },
  {
   "cell_type": "markdown",
   "id": "aab4689a",
   "metadata": {},
   "source": [
    "# Merging all customers data in one data sets to make easy to read the data"
   ]
  },
  {
   "cell_type": "code",
   "execution_count": 40,
   "id": "62639f6d",
   "metadata": {},
   "outputs": [],
   "source": [
    "custdemo = pd.merge(custdemo, custaddt, how='left', on='customer_id')"
   ]
  },
  {
   "cell_type": "code",
   "execution_count": 41,
   "id": "ea58daea",
   "metadata": {},
   "outputs": [
    {
     "data": {
      "text/html": [
       "<div>\n",
       "<style scoped>\n",
       "    .dataframe tbody tr th:only-of-type {\n",
       "        vertical-align: middle;\n",
       "    }\n",
       "\n",
       "    .dataframe tbody tr th {\n",
       "        vertical-align: top;\n",
       "    }\n",
       "\n",
       "    .dataframe thead th {\n",
       "        text-align: right;\n",
       "    }\n",
       "</style>\n",
       "<table border=\"1\" class=\"dataframe\">\n",
       "  <thead>\n",
       "    <tr style=\"text-align: right;\">\n",
       "      <th></th>\n",
       "      <th>customer_id</th>\n",
       "      <th>first_name</th>\n",
       "      <th>last_name</th>\n",
       "      <th>gender</th>\n",
       "      <th>past_3_years_bike_related_purchases</th>\n",
       "      <th>DOB</th>\n",
       "      <th>job_title</th>\n",
       "      <th>job_industry_category</th>\n",
       "      <th>wealth_segment</th>\n",
       "      <th>deceased_indicator</th>\n",
       "      <th>owns_car</th>\n",
       "      <th>tenure</th>\n",
       "      <th>address</th>\n",
       "      <th>postcode</th>\n",
       "      <th>state</th>\n",
       "      <th>country</th>\n",
       "      <th>property_valuation</th>\n",
       "    </tr>\n",
       "  </thead>\n",
       "  <tbody>\n",
       "    <tr>\n",
       "      <th>0</th>\n",
       "      <td>34</td>\n",
       "      <td>Jephthah</td>\n",
       "      <td>Bachmann</td>\n",
       "      <td>Unspecified</td>\n",
       "      <td>59</td>\n",
       "      <td>1843-12-21</td>\n",
       "      <td>Legal Assistant</td>\n",
       "      <td>IT</td>\n",
       "      <td>Affluent Customer</td>\n",
       "      <td>N</td>\n",
       "      <td>No</td>\n",
       "      <td>20</td>\n",
       "      <td>833 Luster Way</td>\n",
       "      <td>4005.0</td>\n",
       "      <td>QLD</td>\n",
       "      <td>Australia</td>\n",
       "      <td>8.0</td>\n",
       "    </tr>\n",
       "    <tr>\n",
       "      <th>1</th>\n",
       "      <td>720</td>\n",
       "      <td>Darrel</td>\n",
       "      <td>Canet</td>\n",
       "      <td>Male</td>\n",
       "      <td>67</td>\n",
       "      <td>1931-10-23 00:00:00</td>\n",
       "      <td>Recruiting Manager</td>\n",
       "      <td>Retail</td>\n",
       "      <td>Affluent Customer</td>\n",
       "      <td>N</td>\n",
       "      <td>No</td>\n",
       "      <td>6</td>\n",
       "      <td>78 Glacier Hill Drive</td>\n",
       "      <td>2026.0</td>\n",
       "      <td>NSW</td>\n",
       "      <td>Australia</td>\n",
       "      <td>10.0</td>\n",
       "    </tr>\n",
       "    <tr>\n",
       "      <th>2</th>\n",
       "      <td>1092</td>\n",
       "      <td>Katlin</td>\n",
       "      <td>Creddon</td>\n",
       "      <td>Female</td>\n",
       "      <td>56</td>\n",
       "      <td>1935-08-22 00:00:00</td>\n",
       "      <td>VP Quality Control</td>\n",
       "      <td>Retail</td>\n",
       "      <td>Mass Customer</td>\n",
       "      <td>N</td>\n",
       "      <td>No</td>\n",
       "      <td>5</td>\n",
       "      <td>5515 Artisan Center</td>\n",
       "      <td>3337.0</td>\n",
       "      <td>VIC</td>\n",
       "      <td>Australia</td>\n",
       "      <td>3.0</td>\n",
       "    </tr>\n",
       "    <tr>\n",
       "      <th>3</th>\n",
       "      <td>3410</td>\n",
       "      <td>Merrili</td>\n",
       "      <td>Brittin</td>\n",
       "      <td>Female</td>\n",
       "      <td>93</td>\n",
       "      <td>1940-09-22 00:00:00</td>\n",
       "      <td>NaN</td>\n",
       "      <td>Property</td>\n",
       "      <td>Mass Customer</td>\n",
       "      <td>N</td>\n",
       "      <td>No</td>\n",
       "      <td>16</td>\n",
       "      <td>1351 Lunder Road</td>\n",
       "      <td>2049.0</td>\n",
       "      <td>NSW</td>\n",
       "      <td>Australia</td>\n",
       "      <td>10.0</td>\n",
       "    </tr>\n",
       "    <tr>\n",
       "      <th>4</th>\n",
       "      <td>2413</td>\n",
       "      <td>Abbey</td>\n",
       "      <td>Murrow</td>\n",
       "      <td>Male</td>\n",
       "      <td>27</td>\n",
       "      <td>1943-08-11 00:00:00</td>\n",
       "      <td>Environmental Specialist</td>\n",
       "      <td>Manufacturing</td>\n",
       "      <td>High Net Worth</td>\n",
       "      <td>N</td>\n",
       "      <td>Yes</td>\n",
       "      <td>17</td>\n",
       "      <td>423 Debra Terrace</td>\n",
       "      <td>3082.0</td>\n",
       "      <td>VIC</td>\n",
       "      <td>Australia</td>\n",
       "      <td>8.0</td>\n",
       "    </tr>\n",
       "    <tr>\n",
       "      <th>...</th>\n",
       "      <td>...</td>\n",
       "      <td>...</td>\n",
       "      <td>...</td>\n",
       "      <td>...</td>\n",
       "      <td>...</td>\n",
       "      <td>...</td>\n",
       "      <td>...</td>\n",
       "      <td>...</td>\n",
       "      <td>...</td>\n",
       "      <td>...</td>\n",
       "      <td>...</td>\n",
       "      <td>...</td>\n",
       "      <td>...</td>\n",
       "      <td>...</td>\n",
       "      <td>...</td>\n",
       "      <td>...</td>\n",
       "      <td>...</td>\n",
       "    </tr>\n",
       "    <tr>\n",
       "      <th>3996</th>\n",
       "      <td>3779</td>\n",
       "      <td>Ulick</td>\n",
       "      <td>Daspar</td>\n",
       "      <td>Unspecified</td>\n",
       "      <td>68</td>\n",
       "      <td>NaN</td>\n",
       "      <td>NaN</td>\n",
       "      <td>IT</td>\n",
       "      <td>Affluent Customer</td>\n",
       "      <td>N</td>\n",
       "      <td>No</td>\n",
       "      <td>NaN</td>\n",
       "      <td>3052 Green Drive</td>\n",
       "      <td>3142.0</td>\n",
       "      <td>VIC</td>\n",
       "      <td>Australia</td>\n",
       "      <td>11.0</td>\n",
       "    </tr>\n",
       "    <tr>\n",
       "      <th>3997</th>\n",
       "      <td>3883</td>\n",
       "      <td>Nissa</td>\n",
       "      <td>Conrad</td>\n",
       "      <td>Unspecified</td>\n",
       "      <td>35</td>\n",
       "      <td>NaN</td>\n",
       "      <td>Legal Assistant</td>\n",
       "      <td>IT</td>\n",
       "      <td>Mass Customer</td>\n",
       "      <td>N</td>\n",
       "      <td>No</td>\n",
       "      <td>NaN</td>\n",
       "      <td>344 Dayton Drive</td>\n",
       "      <td>2148.0</td>\n",
       "      <td>NSW</td>\n",
       "      <td>Australia</td>\n",
       "      <td>9.0</td>\n",
       "    </tr>\n",
       "    <tr>\n",
       "      <th>3998</th>\n",
       "      <td>3931</td>\n",
       "      <td>Kylie</td>\n",
       "      <td>Epine</td>\n",
       "      <td>Unspecified</td>\n",
       "      <td>19</td>\n",
       "      <td>NaN</td>\n",
       "      <td>NaN</td>\n",
       "      <td>IT</td>\n",
       "      <td>High Net Worth</td>\n",
       "      <td>N</td>\n",
       "      <td>Yes</td>\n",
       "      <td>NaN</td>\n",
       "      <td>22 Mifflin Junction</td>\n",
       "      <td>2096.0</td>\n",
       "      <td>NSW</td>\n",
       "      <td>Australia</td>\n",
       "      <td>9.0</td>\n",
       "    </tr>\n",
       "    <tr>\n",
       "      <th>3999</th>\n",
       "      <td>3935</td>\n",
       "      <td>Teodor</td>\n",
       "      <td>Alfonsini</td>\n",
       "      <td>Unspecified</td>\n",
       "      <td>72</td>\n",
       "      <td>NaN</td>\n",
       "      <td>NaN</td>\n",
       "      <td>IT</td>\n",
       "      <td>High Net Worth</td>\n",
       "      <td>N</td>\n",
       "      <td>Yes</td>\n",
       "      <td>NaN</td>\n",
       "      <td>3 Kedzie Center</td>\n",
       "      <td>3106.0</td>\n",
       "      <td>VIC</td>\n",
       "      <td>Australia</td>\n",
       "      <td>10.0</td>\n",
       "    </tr>\n",
       "    <tr>\n",
       "      <th>4000</th>\n",
       "      <td>3998</td>\n",
       "      <td>Sarene</td>\n",
       "      <td>Woolley</td>\n",
       "      <td>Unspecified</td>\n",
       "      <td>60</td>\n",
       "      <td>NaN</td>\n",
       "      <td>Assistant Manager</td>\n",
       "      <td>IT</td>\n",
       "      <td>High Net Worth</td>\n",
       "      <td>N</td>\n",
       "      <td>No</td>\n",
       "      <td>NaN</td>\n",
       "      <td>736 Roxbury Junction</td>\n",
       "      <td>2540.0</td>\n",
       "      <td>NSW</td>\n",
       "      <td>Australia</td>\n",
       "      <td>6.0</td>\n",
       "    </tr>\n",
       "  </tbody>\n",
       "</table>\n",
       "<p>4001 rows × 17 columns</p>\n",
       "</div>"
      ],
      "text/plain": [
       "     customer_id first_name  last_name       gender  \\\n",
       "0             34   Jephthah   Bachmann  Unspecified   \n",
       "1            720     Darrel      Canet         Male   \n",
       "2           1092     Katlin    Creddon       Female   \n",
       "3           3410    Merrili    Brittin       Female   \n",
       "4           2413      Abbey     Murrow         Male   \n",
       "...          ...        ...        ...          ...   \n",
       "3996        3779      Ulick     Daspar  Unspecified   \n",
       "3997        3883      Nissa     Conrad  Unspecified   \n",
       "3998        3931      Kylie      Epine  Unspecified   \n",
       "3999        3935     Teodor  Alfonsini  Unspecified   \n",
       "4000        3998     Sarene    Woolley  Unspecified   \n",
       "\n",
       "     past_3_years_bike_related_purchases                  DOB  \\\n",
       "0                                     59           1843-12-21   \n",
       "1                                     67  1931-10-23 00:00:00   \n",
       "2                                     56  1935-08-22 00:00:00   \n",
       "3                                     93  1940-09-22 00:00:00   \n",
       "4                                     27  1943-08-11 00:00:00   \n",
       "...                                  ...                  ...   \n",
       "3996                                  68                  NaN   \n",
       "3997                                  35                  NaN   \n",
       "3998                                  19                  NaN   \n",
       "3999                                  72                  NaN   \n",
       "4000                                  60                  NaN   \n",
       "\n",
       "                     job_title job_industry_category     wealth_segment  \\\n",
       "0              Legal Assistant                    IT  Affluent Customer   \n",
       "1           Recruiting Manager                Retail  Affluent Customer   \n",
       "2           VP Quality Control                Retail      Mass Customer   \n",
       "3                          NaN              Property      Mass Customer   \n",
       "4     Environmental Specialist         Manufacturing     High Net Worth   \n",
       "...                        ...                   ...                ...   \n",
       "3996                       NaN                    IT  Affluent Customer   \n",
       "3997           Legal Assistant                    IT      Mass Customer   \n",
       "3998                       NaN                    IT     High Net Worth   \n",
       "3999                       NaN                    IT     High Net Worth   \n",
       "4000         Assistant Manager                    IT     High Net Worth   \n",
       "\n",
       "     deceased_indicator owns_car tenure                address  postcode  \\\n",
       "0                     N       No     20         833 Luster Way    4005.0   \n",
       "1                     N       No      6  78 Glacier Hill Drive    2026.0   \n",
       "2                     N       No      5    5515 Artisan Center    3337.0   \n",
       "3                     N       No     16       1351 Lunder Road    2049.0   \n",
       "4                     N      Yes     17      423 Debra Terrace    3082.0   \n",
       "...                 ...      ...    ...                    ...       ...   \n",
       "3996                  N       No    NaN       3052 Green Drive    3142.0   \n",
       "3997                  N       No    NaN       344 Dayton Drive    2148.0   \n",
       "3998                  N      Yes    NaN    22 Mifflin Junction    2096.0   \n",
       "3999                  N      Yes    NaN        3 Kedzie Center    3106.0   \n",
       "4000                  N       No    NaN   736 Roxbury Junction    2540.0   \n",
       "\n",
       "     state    country  property_valuation  \n",
       "0      QLD  Australia                 8.0  \n",
       "1      NSW  Australia                10.0  \n",
       "2      VIC  Australia                 3.0  \n",
       "3      NSW  Australia                10.0  \n",
       "4      VIC  Australia                 8.0  \n",
       "...    ...        ...                 ...  \n",
       "3996   VIC  Australia                11.0  \n",
       "3997   NSW  Australia                 9.0  \n",
       "3998   NSW  Australia                 9.0  \n",
       "3999   VIC  Australia                10.0  \n",
       "4000   NSW  Australia                 6.0  \n",
       "\n",
       "[4001 rows x 17 columns]"
      ]
     },
     "execution_count": 41,
     "metadata": {},
     "output_type": "execute_result"
    }
   ],
   "source": [
    "custdemo"
   ]
  },
  {
   "cell_type": "code",
   "execution_count": 42,
   "id": "faa993b8",
   "metadata": {},
   "outputs": [],
   "source": [
    "all_customer_data = pd.concat([custdemo, customerlist], ignore_index=True, sort=False)"
   ]
  },
  {
   "cell_type": "code",
   "execution_count": 43,
   "id": "cabf93e9",
   "metadata": {},
   "outputs": [
    {
     "data": {
      "text/html": [
       "<div>\n",
       "<style scoped>\n",
       "    .dataframe tbody tr th:only-of-type {\n",
       "        vertical-align: middle;\n",
       "    }\n",
       "\n",
       "    .dataframe tbody tr th {\n",
       "        vertical-align: top;\n",
       "    }\n",
       "\n",
       "    .dataframe thead th {\n",
       "        text-align: right;\n",
       "    }\n",
       "</style>\n",
       "<table border=\"1\" class=\"dataframe\">\n",
       "  <thead>\n",
       "    <tr style=\"text-align: right;\">\n",
       "      <th></th>\n",
       "      <th>customer_id</th>\n",
       "      <th>first_name</th>\n",
       "      <th>last_name</th>\n",
       "      <th>gender</th>\n",
       "      <th>past_3_years_bike_related_purchases</th>\n",
       "      <th>DOB</th>\n",
       "      <th>job_title</th>\n",
       "      <th>job_industry_category</th>\n",
       "      <th>wealth_segment</th>\n",
       "      <th>deceased_indicator</th>\n",
       "      <th>owns_car</th>\n",
       "      <th>tenure</th>\n",
       "      <th>address</th>\n",
       "      <th>postcode</th>\n",
       "      <th>state</th>\n",
       "      <th>country</th>\n",
       "      <th>property_valuation</th>\n",
       "      <th>Rank</th>\n",
       "      <th>Value</th>\n",
       "    </tr>\n",
       "  </thead>\n",
       "  <tbody>\n",
       "    <tr>\n",
       "      <th>0</th>\n",
       "      <td>34</td>\n",
       "      <td>Jephthah</td>\n",
       "      <td>Bachmann</td>\n",
       "      <td>Unspecified</td>\n",
       "      <td>59</td>\n",
       "      <td>1843-12-21</td>\n",
       "      <td>Legal Assistant</td>\n",
       "      <td>IT</td>\n",
       "      <td>Affluent Customer</td>\n",
       "      <td>N</td>\n",
       "      <td>No</td>\n",
       "      <td>20</td>\n",
       "      <td>833 Luster Way</td>\n",
       "      <td>4005.0</td>\n",
       "      <td>QLD</td>\n",
       "      <td>Australia</td>\n",
       "      <td>8.0</td>\n",
       "      <td>NaN</td>\n",
       "      <td>NaN</td>\n",
       "    </tr>\n",
       "    <tr>\n",
       "      <th>1</th>\n",
       "      <td>720</td>\n",
       "      <td>Darrel</td>\n",
       "      <td>Canet</td>\n",
       "      <td>Male</td>\n",
       "      <td>67</td>\n",
       "      <td>1931-10-23 00:00:00</td>\n",
       "      <td>Recruiting Manager</td>\n",
       "      <td>Retail</td>\n",
       "      <td>Affluent Customer</td>\n",
       "      <td>N</td>\n",
       "      <td>No</td>\n",
       "      <td>6</td>\n",
       "      <td>78 Glacier Hill Drive</td>\n",
       "      <td>2026.0</td>\n",
       "      <td>NSW</td>\n",
       "      <td>Australia</td>\n",
       "      <td>10.0</td>\n",
       "      <td>NaN</td>\n",
       "      <td>NaN</td>\n",
       "    </tr>\n",
       "    <tr>\n",
       "      <th>2</th>\n",
       "      <td>1092</td>\n",
       "      <td>Katlin</td>\n",
       "      <td>Creddon</td>\n",
       "      <td>Female</td>\n",
       "      <td>56</td>\n",
       "      <td>1935-08-22 00:00:00</td>\n",
       "      <td>VP Quality Control</td>\n",
       "      <td>Retail</td>\n",
       "      <td>Mass Customer</td>\n",
       "      <td>N</td>\n",
       "      <td>No</td>\n",
       "      <td>5</td>\n",
       "      <td>5515 Artisan Center</td>\n",
       "      <td>3337.0</td>\n",
       "      <td>VIC</td>\n",
       "      <td>Australia</td>\n",
       "      <td>3.0</td>\n",
       "      <td>NaN</td>\n",
       "      <td>NaN</td>\n",
       "    </tr>\n",
       "    <tr>\n",
       "      <th>3</th>\n",
       "      <td>3410</td>\n",
       "      <td>Merrili</td>\n",
       "      <td>Brittin</td>\n",
       "      <td>Female</td>\n",
       "      <td>93</td>\n",
       "      <td>1940-09-22 00:00:00</td>\n",
       "      <td>NaN</td>\n",
       "      <td>Property</td>\n",
       "      <td>Mass Customer</td>\n",
       "      <td>N</td>\n",
       "      <td>No</td>\n",
       "      <td>16</td>\n",
       "      <td>1351 Lunder Road</td>\n",
       "      <td>2049.0</td>\n",
       "      <td>NSW</td>\n",
       "      <td>Australia</td>\n",
       "      <td>10.0</td>\n",
       "      <td>NaN</td>\n",
       "      <td>NaN</td>\n",
       "    </tr>\n",
       "    <tr>\n",
       "      <th>4</th>\n",
       "      <td>2413</td>\n",
       "      <td>Abbey</td>\n",
       "      <td>Murrow</td>\n",
       "      <td>Male</td>\n",
       "      <td>27</td>\n",
       "      <td>1943-08-11 00:00:00</td>\n",
       "      <td>Environmental Specialist</td>\n",
       "      <td>Manufacturing</td>\n",
       "      <td>High Net Worth</td>\n",
       "      <td>N</td>\n",
       "      <td>Yes</td>\n",
       "      <td>17</td>\n",
       "      <td>423 Debra Terrace</td>\n",
       "      <td>3082.0</td>\n",
       "      <td>VIC</td>\n",
       "      <td>Australia</td>\n",
       "      <td>8.0</td>\n",
       "      <td>NaN</td>\n",
       "      <td>NaN</td>\n",
       "    </tr>\n",
       "    <tr>\n",
       "      <th>...</th>\n",
       "      <td>...</td>\n",
       "      <td>...</td>\n",
       "      <td>...</td>\n",
       "      <td>...</td>\n",
       "      <td>...</td>\n",
       "      <td>...</td>\n",
       "      <td>...</td>\n",
       "      <td>...</td>\n",
       "      <td>...</td>\n",
       "      <td>...</td>\n",
       "      <td>...</td>\n",
       "      <td>...</td>\n",
       "      <td>...</td>\n",
       "      <td>...</td>\n",
       "      <td>...</td>\n",
       "      <td>...</td>\n",
       "      <td>...</td>\n",
       "      <td>...</td>\n",
       "      <td>...</td>\n",
       "    </tr>\n",
       "    <tr>\n",
       "      <th>4996</th>\n",
       "      <td>NaN</td>\n",
       "      <td>Ferdinand</td>\n",
       "      <td>Romanetti</td>\n",
       "      <td>Male</td>\n",
       "      <td>60</td>\n",
       "      <td>1959-10-07 00:00:00</td>\n",
       "      <td>Paralegal</td>\n",
       "      <td>Financial Services</td>\n",
       "      <td>Affluent Customer</td>\n",
       "      <td>N</td>\n",
       "      <td>No</td>\n",
       "      <td>9</td>\n",
       "      <td>2 Sloan Way</td>\n",
       "      <td>2200.0</td>\n",
       "      <td>NSW</td>\n",
       "      <td>Australia</td>\n",
       "      <td>7.0</td>\n",
       "      <td>996.0</td>\n",
       "      <td>0.374</td>\n",
       "    </tr>\n",
       "    <tr>\n",
       "      <th>4997</th>\n",
       "      <td>NaN</td>\n",
       "      <td>Burk</td>\n",
       "      <td>Wortley</td>\n",
       "      <td>Male</td>\n",
       "      <td>22</td>\n",
       "      <td>2001-10-17 00:00:00</td>\n",
       "      <td>Senior Sales Associate</td>\n",
       "      <td>Health</td>\n",
       "      <td>Mass Customer</td>\n",
       "      <td>N</td>\n",
       "      <td>No</td>\n",
       "      <td>6</td>\n",
       "      <td>04 Union Crossing</td>\n",
       "      <td>2196.0</td>\n",
       "      <td>NSW</td>\n",
       "      <td>Australia</td>\n",
       "      <td>10.0</td>\n",
       "      <td>997.0</td>\n",
       "      <td>0.357</td>\n",
       "    </tr>\n",
       "    <tr>\n",
       "      <th>4998</th>\n",
       "      <td>NaN</td>\n",
       "      <td>Melloney</td>\n",
       "      <td>Temby</td>\n",
       "      <td>Female</td>\n",
       "      <td>17</td>\n",
       "      <td>1954-10-05 00:00:00</td>\n",
       "      <td>Budget/Accounting Analyst IV</td>\n",
       "      <td>Financial Services</td>\n",
       "      <td>Affluent Customer</td>\n",
       "      <td>N</td>\n",
       "      <td>Yes</td>\n",
       "      <td>15</td>\n",
       "      <td>33475 Fair Oaks Junction</td>\n",
       "      <td>4702.0</td>\n",
       "      <td>QLD</td>\n",
       "      <td>Australia</td>\n",
       "      <td>2.0</td>\n",
       "      <td>997.0</td>\n",
       "      <td>0.357</td>\n",
       "    </tr>\n",
       "    <tr>\n",
       "      <th>4999</th>\n",
       "      <td>NaN</td>\n",
       "      <td>Dickie</td>\n",
       "      <td>Cubbini</td>\n",
       "      <td>Male</td>\n",
       "      <td>30</td>\n",
       "      <td>1952-12-17 00:00:00</td>\n",
       "      <td>Financial Advisor</td>\n",
       "      <td>Financial Services</td>\n",
       "      <td>Mass Customer</td>\n",
       "      <td>N</td>\n",
       "      <td>Yes</td>\n",
       "      <td>19</td>\n",
       "      <td>57666 Victoria Way</td>\n",
       "      <td>4215.0</td>\n",
       "      <td>QLD</td>\n",
       "      <td>Australia</td>\n",
       "      <td>2.0</td>\n",
       "      <td>997.0</td>\n",
       "      <td>0.357</td>\n",
       "    </tr>\n",
       "    <tr>\n",
       "      <th>5000</th>\n",
       "      <td>NaN</td>\n",
       "      <td>Sylas</td>\n",
       "      <td>Duffill</td>\n",
       "      <td>Male</td>\n",
       "      <td>56</td>\n",
       "      <td>1955-10-02 00:00:00</td>\n",
       "      <td>Staff Accountant IV</td>\n",
       "      <td>Property</td>\n",
       "      <td>Mass Customer</td>\n",
       "      <td>N</td>\n",
       "      <td>Yes</td>\n",
       "      <td>14</td>\n",
       "      <td>21875 Grover Drive</td>\n",
       "      <td>2010.0</td>\n",
       "      <td>NSW</td>\n",
       "      <td>Australia</td>\n",
       "      <td>9.0</td>\n",
       "      <td>1000.0</td>\n",
       "      <td>0.340</td>\n",
       "    </tr>\n",
       "  </tbody>\n",
       "</table>\n",
       "<p>5001 rows × 19 columns</p>\n",
       "</div>"
      ],
      "text/plain": [
       "     customer_id first_name  last_name       gender  \\\n",
       "0             34   Jephthah   Bachmann  Unspecified   \n",
       "1            720     Darrel      Canet         Male   \n",
       "2           1092     Katlin    Creddon       Female   \n",
       "3           3410    Merrili    Brittin       Female   \n",
       "4           2413      Abbey     Murrow         Male   \n",
       "...          ...        ...        ...          ...   \n",
       "4996         NaN  Ferdinand  Romanetti         Male   \n",
       "4997         NaN       Burk    Wortley         Male   \n",
       "4998         NaN   Melloney      Temby       Female   \n",
       "4999         NaN     Dickie    Cubbini         Male   \n",
       "5000         NaN      Sylas    Duffill         Male   \n",
       "\n",
       "     past_3_years_bike_related_purchases                  DOB  \\\n",
       "0                                     59           1843-12-21   \n",
       "1                                     67  1931-10-23 00:00:00   \n",
       "2                                     56  1935-08-22 00:00:00   \n",
       "3                                     93  1940-09-22 00:00:00   \n",
       "4                                     27  1943-08-11 00:00:00   \n",
       "...                                  ...                  ...   \n",
       "4996                                  60  1959-10-07 00:00:00   \n",
       "4997                                  22  2001-10-17 00:00:00   \n",
       "4998                                  17  1954-10-05 00:00:00   \n",
       "4999                                  30  1952-12-17 00:00:00   \n",
       "5000                                  56  1955-10-02 00:00:00   \n",
       "\n",
       "                         job_title job_industry_category     wealth_segment  \\\n",
       "0                  Legal Assistant                    IT  Affluent Customer   \n",
       "1               Recruiting Manager                Retail  Affluent Customer   \n",
       "2               VP Quality Control                Retail      Mass Customer   \n",
       "3                              NaN              Property      Mass Customer   \n",
       "4         Environmental Specialist         Manufacturing     High Net Worth   \n",
       "...                            ...                   ...                ...   \n",
       "4996                     Paralegal    Financial Services  Affluent Customer   \n",
       "4997        Senior Sales Associate                Health      Mass Customer   \n",
       "4998  Budget/Accounting Analyst IV    Financial Services  Affluent Customer   \n",
       "4999             Financial Advisor    Financial Services      Mass Customer   \n",
       "5000           Staff Accountant IV              Property      Mass Customer   \n",
       "\n",
       "     deceased_indicator owns_car tenure                   address  postcode  \\\n",
       "0                     N       No     20            833 Luster Way    4005.0   \n",
       "1                     N       No      6     78 Glacier Hill Drive    2026.0   \n",
       "2                     N       No      5       5515 Artisan Center    3337.0   \n",
       "3                     N       No     16          1351 Lunder Road    2049.0   \n",
       "4                     N      Yes     17         423 Debra Terrace    3082.0   \n",
       "...                 ...      ...    ...                       ...       ...   \n",
       "4996                  N       No      9               2 Sloan Way    2200.0   \n",
       "4997                  N       No      6         04 Union Crossing    2196.0   \n",
       "4998                  N      Yes     15  33475 Fair Oaks Junction    4702.0   \n",
       "4999                  N      Yes     19        57666 Victoria Way    4215.0   \n",
       "5000                  N      Yes     14        21875 Grover Drive    2010.0   \n",
       "\n",
       "     state    country  property_valuation    Rank  Value  \n",
       "0      QLD  Australia                 8.0     NaN    NaN  \n",
       "1      NSW  Australia                10.0     NaN    NaN  \n",
       "2      VIC  Australia                 3.0     NaN    NaN  \n",
       "3      NSW  Australia                10.0     NaN    NaN  \n",
       "4      VIC  Australia                 8.0     NaN    NaN  \n",
       "...    ...        ...                 ...     ...    ...  \n",
       "4996   NSW  Australia                 7.0   996.0  0.374  \n",
       "4997   NSW  Australia                10.0   997.0  0.357  \n",
       "4998   QLD  Australia                 2.0   997.0  0.357  \n",
       "4999   QLD  Australia                 2.0   997.0  0.357  \n",
       "5000   NSW  Australia                 9.0  1000.0  0.340  \n",
       "\n",
       "[5001 rows x 19 columns]"
      ]
     },
     "execution_count": 43,
     "metadata": {},
     "output_type": "execute_result"
    }
   ],
   "source": [
    "all_customer_data"
   ]
  },
  {
   "cell_type": "markdown",
   "id": "260aea34",
   "metadata": {},
   "source": [
    "# Extracting data to csv file"
   ]
  },
  {
   "cell_type": "code",
   "execution_count": 44,
   "id": "3070ba2f",
   "metadata": {},
   "outputs": [],
   "source": [
    "all_customer_data.to_csv(\"CustomerData.csv\",index=False)"
   ]
  },
  {
   "cell_type": "code",
   "execution_count": 45,
   "id": "82cc74fa",
   "metadata": {},
   "outputs": [],
   "source": [
    "transactions.to_csv(\"TransactionData.csv\",index=False)"
   ]
  }
 ],
 "metadata": {
  "kernelspec": {
   "display_name": "Python 3 (ipykernel)",
   "language": "python",
   "name": "python3"
  },
  "language_info": {
   "codemirror_mode": {
    "name": "ipython",
    "version": 3
   },
   "file_extension": ".py",
   "mimetype": "text/x-python",
   "name": "python",
   "nbconvert_exporter": "python",
   "pygments_lexer": "ipython3",
   "version": "3.9.13"
  }
 },
 "nbformat": 4,
 "nbformat_minor": 5
}
